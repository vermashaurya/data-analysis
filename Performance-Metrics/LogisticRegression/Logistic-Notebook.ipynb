{
 "cells": [
  {
   "cell_type": "markdown",
   "id": "4996f907",
   "metadata": {},
   "source": [
    "# Performance Metrics"
   ]
  },
  {
   "cell_type": "markdown",
   "id": "62286bd0",
   "metadata": {},
   "source": [
    "## Logistic Regression"
   ]
  },
  {
   "cell_type": "markdown",
   "id": "eeeb6c00",
   "metadata": {},
   "source": [
    "### Imports"
   ]
  },
  {
   "cell_type": "code",
   "execution_count": 1,
   "id": "7de85964",
   "metadata": {},
   "outputs": [],
   "source": [
    "import pandas as pd\n",
    "from sklearn.metrics import mean_squared_log_error, mean_absolute_percentage_error"
   ]
  },
  {
   "cell_type": "markdown",
   "id": "1d1afff5",
   "metadata": {},
   "source": [
    "•\tpandas (pd): A powerful data manipulation and analysis library, used here for reading and handling the dataset.  \n",
    "•\tmean_squared_log_error: A function from sklearn.metrics to calculate Mean Squared Logarithmic Error (MSLE), a common metric for evaluating regression models.                                                                      \n",
    "•\tmean_absolute_percentage_error: Another function from sklearn.metrics used to compute Mean Absolute Percentage Error (MAPE), which evaluates model accuracy based on percentage differences."
   ]
  },
  {
   "cell_type": "markdown",
   "id": "23303fee",
   "metadata": {},
   "source": [
    "### Original Dataset"
   ]
  },
  {
   "cell_type": "code",
   "execution_count": 2,
   "id": "5cbe7ab1",
   "metadata": {},
   "outputs": [
    {
     "name": "stdout",
     "output_type": "stream",
     "text": [
      "      Hours Studied  Previous Scores Extracurricular Activities  Sleep Hours  \\\n",
      "0                 7               99                        Yes            9   \n",
      "1                 4               82                         No            4   \n",
      "2                 8               51                        Yes            7   \n",
      "3                 5               52                        Yes            5   \n",
      "4                 7               75                         No            8   \n",
      "...             ...              ...                        ...          ...   \n",
      "9995              1               49                        Yes            4   \n",
      "9996              7               64                        Yes            8   \n",
      "9997              6               83                        Yes            8   \n",
      "9998              9               97                        Yes            7   \n",
      "9999              7               74                         No            8   \n",
      "\n",
      "      Sample Question Papers Practiced  Performance Index  \n",
      "0                                    1               91.0  \n",
      "1                                    2               65.0  \n",
      "2                                    2               45.0  \n",
      "3                                    2               36.0  \n",
      "4                                    5               66.0  \n",
      "...                                ...                ...  \n",
      "9995                                 2               23.0  \n",
      "9996                                 5               58.0  \n",
      "9997                                 5               74.0  \n",
      "9998                                 0               95.0  \n",
      "9999                                 1               64.0  \n",
      "\n",
      "[10000 rows x 6 columns]\n"
     ]
    }
   ],
   "source": [
    "data = pd.read_csv('dataset.csv')\n",
    "print(data)"
   ]
  },
  {
   "cell_type": "markdown",
   "id": "9cb133d6",
   "metadata": {},
   "source": [
    "### Mapping Categorical Values"
   ]
  },
  {
   "cell_type": "code",
   "execution_count": 3,
   "id": "ee6317c0",
   "metadata": {},
   "outputs": [
    {
     "name": "stdout",
     "output_type": "stream",
     "text": [
      "   Hours Studied  Previous Scores  Extracurricular Activities  Sleep Hours  \\\n",
      "0              7               99                           1            9   \n",
      "1              4               82                           0            4   \n",
      "2              8               51                           1            7   \n",
      "3              5               52                           1            5   \n",
      "4              7               75                           0            8   \n",
      "\n",
      "   Sample Question Papers Practiced  Performance Index  \n",
      "0                                 1               91.0  \n",
      "1                                 2               65.0  \n",
      "2                                 2               45.0  \n",
      "3                                 2               36.0  \n",
      "4                                 5               66.0  \n"
     ]
    }
   ],
   "source": [
    "data['Extracurricular Activities'] = data['Extracurricular Activities'].map({'Yes': 1, 'No': 0})\n",
    "print(data.head())"
   ]
  },
  {
   "cell_type": "markdown",
   "id": "38403dbd",
   "metadata": {},
   "source": [
    "•\tdata[‘Extracurricular Activities’].map(): Converts the categorical values ‘Yes’ and ‘No’ in the “Extracurricular Activities” column to binary values, where ‘Yes’ is mapped to 1 and ‘No’ to 0. This conversion is necessary because many machine learning algorithms work better with numerical data."
   ]
  },
  {
   "cell_type": "markdown",
   "id": "ec36a361",
   "metadata": {},
   "source": [
    "### Selecting Parameters X and Y"
   ]
  },
  {
   "cell_type": "code",
   "execution_count": 4,
   "id": "f69b2ece",
   "metadata": {},
   "outputs": [],
   "source": [
    "X = data[['Extracurricular Activities']]\n",
    "y_true = data['Performance Index']\n",
    "\n",
    "#Creating Predicted Values using mean\n",
    "y_pred = [y_true.mean()] * len(y_true)"
   ]
  },
  {
   "cell_type": "markdown",
   "id": "2ab0c22e",
   "metadata": {},
   "source": [
    "•\tX: Represents the independent variable, i.e., the predictor in the model. In this case, it’s the ‘Extracurricular Activities’ column that was just converted to binary.                                              \n",
    "•\ty_true: Represents the actual values of the target variable, which is ‘Performance Index’. This column holds the true values that we will compare against the predictions.                                                        \n",
    "•\ty_pred: Creates a list of predicted values. Instead of performing actual predictions, it uses the mean of y_true for all instances, which serves as a basic baseline prediction.                                              \n",
    "•\ty_true.mean(): Computes the mean of the ‘Performance Index’ column.                                              \n",
    "•\tlen(y_true): Ensures that the same mean value is repeated for every row, matching the length of the dataset."
   ]
  },
  {
   "cell_type": "markdown",
   "id": "858702d5",
   "metadata": {},
   "source": [
    "### Calculating Mean Squared Logarithmic Error"
   ]
  },
  {
   "cell_type": "code",
   "execution_count": 5,
   "id": "85b432e3",
   "metadata": {},
   "outputs": [
    {
     "name": "stdout",
     "output_type": "stream",
     "text": [
      "The calculated MSLE is: 0.1552 or 15.5161%\n"
     ]
    }
   ],
   "source": [
    "msle = mean_squared_log_error(y_true, y_pred)\n",
    "print(f\"The calculated MSLE is: {msle:.4f} or {msle * 100:.4f}%\")"
   ]
  },
  {
   "cell_type": "markdown",
   "id": "8864213b",
   "metadata": {},
   "source": [
    "### Calculating Mean Absolute Percentage Error"
   ]
  },
  {
   "cell_type": "code",
   "execution_count": 6,
   "id": "6d61bfde",
   "metadata": {},
   "outputs": [
    {
     "name": "stdout",
     "output_type": "stream",
     "text": [
      "The calculated MAPE is: 0.38 or 38.26%\n"
     ]
    }
   ],
   "source": [
    "mape = mean_absolute_percentage_error(y_true, y_pred)\n",
    "print(f\"The calculated MAPE is: {mape:.2f} or {mape * 100:.2f}%\")"
   ]
  }
 ],
 "metadata": {
  "kernelspec": {
   "display_name": "Python 3 (ipykernel)",
   "language": "python",
   "name": "python3"
  },
  "language_info": {
   "codemirror_mode": {
    "name": "ipython",
    "version": 3
   },
   "file_extension": ".py",
   "mimetype": "text/x-python",
   "name": "python",
   "nbconvert_exporter": "python",
   "pygments_lexer": "ipython3",
   "version": "3.10.5"
  }
 },
 "nbformat": 4,
 "nbformat_minor": 5
}
