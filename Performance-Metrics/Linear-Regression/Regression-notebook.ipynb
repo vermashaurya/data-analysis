{
 "cells": [
  {
   "cell_type": "markdown",
   "id": "16bbccc1",
   "metadata": {},
   "source": [
    "# Performance Metrics\n",
    "\n",
    "## Linear Regression"
   ]
  },
  {
   "cell_type": "markdown",
   "id": "6ca84831",
   "metadata": {},
   "source": [
    "### Imports"
   ]
  },
  {
   "cell_type": "code",
   "execution_count": 1,
   "id": "2b9df3de",
   "metadata": {},
   "outputs": [],
   "source": [
    "import pandas as pd\n",
    "import numpy as np"
   ]
  },
  {
   "cell_type": "markdown",
   "id": "c56bef5f",
   "metadata": {},
   "source": [
    "•\tpandas (pd): Used for loading, manipulating, and analyzing datasets in the form of DataFrames.                  \n",
    "•\tnumpy (np): A powerful library for numerical computing, used for handling arrays and performing mathematical operations.                                                                                                          "
   ]
  },
  {
   "cell_type": "markdown",
   "id": "5c270fb6",
   "metadata": {},
   "source": [
    "### Original Dataset"
   ]
  },
  {
   "cell_type": "code",
   "execution_count": 2,
   "id": "a1db9d8d",
   "metadata": {},
   "outputs": [
    {
     "name": "stdout",
     "output_type": "stream",
     "text": [
      "Original Dataset:\n",
      "      Hours Studied  Previous Scores Extracurricular Activities  Sleep Hours  \\\n",
      "0                 7               99                        Yes            9   \n",
      "1                 4               82                         No            4   \n",
      "2                 8               51                        Yes            7   \n",
      "3                 5               52                        Yes            5   \n",
      "4                 7               75                         No            8   \n",
      "...             ...              ...                        ...          ...   \n",
      "9995              1               49                        Yes            4   \n",
      "9996              7               64                        Yes            8   \n",
      "9997              6               83                        Yes            8   \n",
      "9998              9               97                        Yes            7   \n",
      "9999              7               74                         No            8   \n",
      "\n",
      "      Sample Question Papers Practiced  Performance Index  \n",
      "0                                    1               91.0  \n",
      "1                                    2               65.0  \n",
      "2                                    2               45.0  \n",
      "3                                    2               36.0  \n",
      "4                                    5               66.0  \n",
      "...                                ...                ...  \n",
      "9995                                 2               23.0  \n",
      "9996                                 5               58.0  \n",
      "9997                                 5               74.0  \n",
      "9998                                 0               95.0  \n",
      "9999                                 1               64.0  \n",
      "\n",
      "[10000 rows x 6 columns]\n"
     ]
    }
   ],
   "source": [
    "df = pd.read_csv('dataset.csv')\n",
    "print(\"Original Dataset:\")\n",
    "print(df)"
   ]
  },
  {
   "cell_type": "markdown",
   "id": "00e973da",
   "metadata": {},
   "source": [
    "### Dropping Categorical Column"
   ]
  },
  {
   "cell_type": "code",
   "execution_count": 3,
   "id": "7d9ec9bf",
   "metadata": {},
   "outputs": [],
   "source": [
    "df = df.drop(columns=['Extracurricular Activities'])"
   ]
  },
  {
   "cell_type": "markdown",
   "id": "07d8ac86",
   "metadata": {},
   "source": [
    "•\tdf.drop(columns=[]): Removes the column 'Extracurricular Activities', which is categorical, and hence not suitable for linear regression."
   ]
  },
  {
   "cell_type": "markdown",
   "id": "710253dd",
   "metadata": {},
   "source": [
    "### Separating Features and Target"
   ]
  },
  {
   "cell_type": "code",
   "execution_count": 4,
   "id": "7d992464",
   "metadata": {},
   "outputs": [],
   "source": [
    "X = df.drop(columns=['Performance Index']).values\n",
    "y = df['Performance Index'].values"
   ]
  },
  {
   "cell_type": "markdown",
   "id": "6ccd75ee",
   "metadata": {},
   "source": [
    "•\tX: The independent variables (features) from the dataset, excluding the target 'Performance Index'.              \n",
    "•\ty: The target (dependent variable), 'Performance Index', which we aim to predict."
   ]
  },
  {
   "cell_type": "markdown",
   "id": "16d881ab",
   "metadata": {},
   "source": [
    "### Setting up for Gradient Descent"
   ]
  },
  {
   "cell_type": "code",
   "execution_count": 5,
   "id": "7c88d668",
   "metadata": {},
   "outputs": [],
   "source": [
    "X = (X - np.mean(X, axis=0)) / np.std(X, axis=0)\n",
    "X_b = np.c_[np.ones((len(X), 1)), X]\n",
    "\n",
    "#Initializing Parameters\n",
    "theta = np.random.randn(X_b.shape[1], 1)\n",
    "\n",
    "#Setting Hyperparameters\n",
    "learning_rate = 0.01\n",
    "iterations = 1000\n",
    "m = len(X)\n",
    "\n",
    "#Reshaping Target\n",
    "y = y.reshape(-1, 1)"
   ]
  },
  {
   "cell_type": "markdown",
   "id": "5b45c49c",
   "metadata": {},
   "source": [
    "•\tnp.mean(X, axis=0): Computes the mean of each feature (column) in X.                                            \n",
    "•\tnp.std(X, axis=0): Computes the standard deviation of each feature (column).                                    \n",
    "•\tNormalization: Standardizes the features so they have a mean of 0 and a standard deviation of 1, improving gradient descent convergence.                                                                                        \n",
    "•\tnp.ones((len(X), 1)): Creates a column of 1s, representing the intercept (bias) term in the linear regression model.                                                                                                              \n",
    "•\tnp.c_[]: Concatenates the column of 1s to the original features X.                                              \n",
    "•\tnp.random.randn(): Randomly initializes the model parameters (theta) for the linear regression model. There is one parameter for each feature plus the intercept term."
   ]
  },
  {
   "cell_type": "markdown",
   "id": "6b2d0561",
   "metadata": {},
   "source": [
    "### Gradient Descent Algorithm"
   ]
  },
  {
   "cell_type": "code",
   "execution_count": 6,
   "id": "c82ea0a2",
   "metadata": {},
   "outputs": [],
   "source": [
    "for iteration in range(iterations):\n",
    "    gradients = (2/m) * X_b.T.dot(X_b.dot(theta) - y)\n",
    "    theta -= learning_rate * gradients"
   ]
  },
  {
   "cell_type": "markdown",
   "id": "980da615",
   "metadata": {},
   "source": [
    "•\tX_b.T.dot(): Computes the gradients of the cost function with respect to the model parameters.                  \n",
    "•\ttheta -= learning_rate * gradients: Updates the parameters theta by subtracting the gradient scaled by the learning rate.                                                                                                      \n",
    "•\tLoop: Repeats this process iterations number of times to minimize the error between predicted and actual values."
   ]
  },
  {
   "cell_type": "markdown",
   "id": "a0e8c91a",
   "metadata": {},
   "source": [
    "### Calculating Predicted Values"
   ]
  },
  {
   "cell_type": "code",
   "execution_count": 7,
   "id": "d92047d0",
   "metadata": {},
   "outputs": [
    {
     "name": "stdout",
     "output_type": "stream",
     "text": [
      "\n",
      "Dataset with Predicted Performance Index:\n",
      "      Performance Index  Predicted Performance Index\n",
      "0                  91.0                    91.532244\n",
      "1                  65.0                    63.469569\n",
      "2                  45.0                    44.736195\n",
      "3                  36.0                    36.241825\n",
      "4                  66.0                    67.390699\n",
      "...                 ...                          ...\n",
      "9995               23.0                    21.296025\n",
      "9996               58.0                    56.186280\n",
      "9997               74.0                    72.685938\n",
      "9998               95.0                    94.054071\n",
      "9999               64.0                    65.591322\n",
      "\n",
      "[10000 rows x 2 columns]\n"
     ]
    }
   ],
   "source": [
    "predicted_values = X_b.dot(theta)\n",
    "df['Predicted Performance Index'] = predicted_values\n",
    "print(\"\\nDataset with Predicted Performance Index:\")\n",
    "print(df[['Performance Index', 'Predicted Performance Index']])"
   ]
  },
  {
   "cell_type": "markdown",
   "id": "ea8226ff",
   "metadata": {},
   "source": [
    "•\tX_b.dot(theta): Computes the predicted 'Performance Index' values for each instance by multiplying the features with the learned parameters theta."
   ]
  },
  {
   "cell_type": "markdown",
   "id": "55e3e676",
   "metadata": {},
   "source": [
    "### Calculating Mean Squared Error (MSE) "
   ]
  },
  {
   "cell_type": "code",
   "execution_count": 8,
   "id": "e35da1a4",
   "metadata": {},
   "outputs": [
    {
     "name": "stdout",
     "output_type": "stream",
     "text": [
      "\n",
      "Mean Squared Error (MSE): 4.245176108662539\n"
     ]
    }
   ],
   "source": [
    "mse = sum((y[i][0] - predicted_values[i][0]) ** 2 for i in range(len(y))) / len(y)\n",
    "print(f\"\\nMean Squared Error (MSE): {mse}\")"
   ]
  },
  {
   "cell_type": "markdown",
   "id": "ea7810ed",
   "metadata": {},
   "source": [
    "### Calculating Root Mean Squared Error (RMSE)"
   ]
  },
  {
   "cell_type": "code",
   "execution_count": 9,
   "id": "a98f46d3",
   "metadata": {},
   "outputs": [
    {
     "name": "stdout",
     "output_type": "stream",
     "text": [
      "\n",
      "Root Mean Squared Error (RMSE): 2.0603825151322117\n"
     ]
    }
   ],
   "source": [
    "rmse = (sum((y[i][0] - predicted_values[i][0]) ** 2 for i in range(len(y))) / len(y)) ** 0.5\n",
    "print(f\"\\nRoot Mean Squared Error (RMSE): {rmse}\")"
   ]
  },
  {
   "cell_type": "markdown",
   "id": "8f012aeb",
   "metadata": {},
   "source": [
    "### Calculating Mean Absolute Error (MAE)"
   ]
  },
  {
   "cell_type": "code",
   "execution_count": 10,
   "id": "7729fb9a",
   "metadata": {},
   "outputs": [
    {
     "name": "stdout",
     "output_type": "stream",
     "text": [
      "\n",
      "Mean Absolute Error (MAE): 1.6375973348488966\n"
     ]
    }
   ],
   "source": [
    "mae = sum(abs(y[i][0] - predicted_values[i][0]) for i in range(len(y))) / len(y)\n",
    "print(f\"\\nMean Absolute Error (MAE): {mae}\")"
   ]
  },
  {
   "cell_type": "markdown",
   "id": "de95fad2",
   "metadata": {},
   "source": [
    "•\tabs(): Takes the absolute difference between the actual and predicted values for each data point.                \n",
    "•\tsum(): Sums up the absolute differences.                                                                        \n",
    "•\t/ len(y): Divides by the number of data points to get the average absolute error.                                \n",
    "•\tMAE: Provides a measure of prediction error that’s less sensitive to outliers compared to MSE."
   ]
  },
  {
   "cell_type": "markdown",
   "id": "f55dc013",
   "metadata": {},
   "source": [
    "### Calculating R-Squared Error"
   ]
  },
  {
   "cell_type": "code",
   "execution_count": 11,
   "id": "825f0a24",
   "metadata": {},
   "outputs": [
    {
     "name": "stdout",
     "output_type": "stream",
     "text": [
      "\n",
      "R-squared: 0.9884981216772581\n"
     ]
    }
   ],
   "source": [
    "ss_total = np.sum((y - np.mean(y)) ** 2)\n",
    "ss_residual = np.sum((y - predicted_values) ** 2)\n",
    "r_squared = 1 - (ss_residual / ss_total)\n",
    "print(f\"\\nR-squared: {r_squared}\")"
   ]
  },
  {
   "cell_type": "markdown",
   "id": "2ba64f71",
   "metadata": {},
   "source": [
    "•\tss_total: This is the total variation in the target variable by summing the squared differences between each actual value and the mean of the actual values.\n",
    "•\tss_residual: Computes the sum of squared differences between the actual values and the predicted values, representing the variation that is not explained by the model."
   ]
  },
  {
   "cell_type": "markdown",
   "id": "5443eb2a",
   "metadata": {},
   "source": [
    "### Calculating Adjusted R-Squared Error"
   ]
  },
  {
   "cell_type": "code",
   "execution_count": 12,
   "id": "48a8e27d",
   "metadata": {},
   "outputs": [
    {
     "name": "stdout",
     "output_type": "stream",
     "text": [
      "\n",
      "Adjusted R-squared: 0.9884935186244026\n"
     ]
    }
   ],
   "source": [
    "n = len(y)  \n",
    "p = X_b.shape[1] - 1  \n",
    "adjusted_r_squared = 1 - (1 - r_squared) * (n - 1) / (n - p - 1)\n",
    "print(f\"\\nAdjusted R-squared: {adjusted_r_squared}\")"
   ]
  },
  {
   "cell_type": "markdown",
   "id": "9e52d20d",
   "metadata": {},
   "source": [
    "•\tn: Number of observations in the dataset - to calculate dof.                                                    \n",
    "•\tp: This line counts the number of predictors (features) used in the model, excluding the intercept term.        \n",
    "•\tadjusted_r_squared: The final line computes Adjusted R-squared, which adjusts R-squared for the number of predictors, penalizing for adding unnecessary variables that do not improve the model."
   ]
  }
 ],
 "metadata": {
  "kernelspec": {
   "display_name": "Python 3 (ipykernel)",
   "language": "python",
   "name": "python3"
  },
  "language_info": {
   "codemirror_mode": {
    "name": "ipython",
    "version": 3
   },
   "file_extension": ".py",
   "mimetype": "text/x-python",
   "name": "python",
   "nbconvert_exporter": "python",
   "pygments_lexer": "ipython3",
   "version": "3.10.5"
  }
 },
 "nbformat": 4,
 "nbformat_minor": 5
}
